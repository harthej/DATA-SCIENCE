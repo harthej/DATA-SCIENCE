{
 "cells": [
  {
   "cell_type": "code",
   "execution_count": 1,
   "metadata": {
    "id": "kfYgPFXuxZO7"
   },
   "outputs": [],
   "source": [
    "import numpy as np\n",
    "from scipy import stats\n",
    "\n",
    "# Durability data (in millions of characters)\n",
    "durability_data = [1.13, 1.55, 1.43, 0.92, 1.25, 1.36, 1.32, 0.85, 1.07, 1.48, 1.20, 1.33, 1.18, 1.22, 1.29]\n",
    "\n",
    "# Calculate the sample mean and standard deviation\n",
    "sample_mean = np.mean(durability_data)\n",
    "sample_std = np.std(durability_data, ddof=1)  # ddof=1 for sample standard deviation\n",
    "\n"
   ]
  },
  {
   "cell_type": "code",
   "execution_count": 2,
   "metadata": {
    "colab": {
     "base_uri": "https://localhost:8080/"
    },
    "id": "T1ZvYTwkxw3-",
    "outputId": "e8069e73-c97e-47ed-85aa-31818f8523ec"
   },
   "outputs": [
    {
     "name": "stdout",
     "output_type": "stream",
     "text": [
      "(1.090197338451367, 1.3871359948819662)\n"
     ]
    }
   ],
   "source": [
    "#99% Confidence Interval Using Sample Standard Deviation\n",
    "\n",
    "degrees_of_freedom = len(durability_data) - 1\n",
    "t_critical = stats.t.ppf(0.995, degrees_of_freedom)\n",
    "margin_of_error = t_critical * (sample_std / np.sqrt(len(durability_data)))\n",
    "confidence_interval = (sample_mean - margin_of_error, sample_mean + margin_of_error)\n",
    "\n",
    "print(confidence_interval)"
   ]
  },
  {
   "cell_type": "code",
   "execution_count": 3,
   "metadata": {
    "colab": {
     "base_uri": "https://localhost:8080/"
    },
    "id": "xlGQhTfbyl42",
    "outputId": "217f3a8b-bc08-4a98-fe24-9441a39f82a5"
   },
   "outputs": [
    {
     "name": "stdout",
     "output_type": "stream",
     "text": [
      "(1.1056514133957607, 1.3716819199375725)\n"
     ]
    }
   ],
   "source": [
    "#Build 99% Confidence Interval Using Known Population Standard Deviation\n",
    "\n",
    "from scipy.stats import norm\n",
    "\n",
    "durability_data = [1.13, 1.55, 1.43, 0.92, 1.25, 1.36, 1.32, 0.85, 1.07, 1.48, 1.20, 1.33, 1.18, 1.22, 1.29]\n",
    "sample_mean = np.mean(durability_data)\n",
    "\n",
    "population_std = 0.2\n",
    "z_critical = norm.ppf(0.995)\n",
    "margin_of_error = z_critical * (population_std / np.sqrt(len(durability_data)))\n",
    "confidence_interval = (sample_mean - margin_of_error, sample_mean + margin_of_error)\n",
    "\n",
    "print(confidence_interval)  # To see the output, run the code."
   ]
  }
 ],
 "metadata": {
  "colab": {
   "provenance": []
  },
  "kernelspec": {
   "display_name": "Python 3 (ipykernel)",
   "language": "python",
   "name": "python3"
  },
  "language_info": {
   "codemirror_mode": {
    "name": "ipython",
    "version": 3
   },
   "file_extension": ".py",
   "mimetype": "text/x-python",
   "name": "python",
   "nbconvert_exporter": "python",
   "pygments_lexer": "ipython3",
   "version": "3.9.12"
  }
 },
 "nbformat": 4,
 "nbformat_minor": 1
}
