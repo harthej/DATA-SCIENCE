{
 "cells": [
  {
   "cell_type": "code",
   "execution_count": 1,
   "metadata": {
    "colab": {
     "base_uri": "https://localhost:8080/"
    },
    "id": "-RfoSX5JDYPD",
    "outputId": "ed21d681-24e0-47f0-f625-08c5988f2dc7"
   },
   "outputs": [
    {
     "name": "stdout",
     "output_type": "stream",
     "text": [
      "Requirement already satisfied: scikit-learn in c:\\users\\hp\\anaconda3\\lib\\site-packages (1.3.0)\n",
      "Collecting scikit-learn\n",
      "  Downloading scikit_learn-1.5.2-cp39-cp39-win_amd64.whl (11.0 MB)\n",
      "Collecting threadpoolctl>=3.1.0\n",
      "  Using cached threadpoolctl-3.5.0-py3-none-any.whl (18 kB)\n",
      "Requirement already satisfied: joblib>=1.2.0 in c:\\users\\hp\\anaconda3\\lib\\site-packages (from scikit-learn) (1.4.2)\n",
      "Requirement already satisfied: scipy>=1.6.0 in c:\\users\\hp\\anaconda3\\lib\\site-packages (from scikit-learn) (1.7.3)\n",
      "Requirement already satisfied: numpy>=1.19.5 in c:\\users\\hp\\anaconda3\\lib\\site-packages (from scikit-learn) (1.22.4)\n",
      "Installing collected packages: threadpoolctl, scikit-learn\n",
      "  Attempting uninstall: threadpoolctl\n",
      "    Found existing installation: threadpoolctl 2.2.0\n",
      "    Uninstalling threadpoolctl-2.2.0:\n",
      "      Successfully uninstalled threadpoolctl-2.2.0"
     ]
    },
    {
     "name": "stderr",
     "output_type": "stream",
     "text": [
      "ERROR: Could not install packages due to an OSError: [WinError 5] Access is denied: 'C:\\\\Users\\\\hp\\\\anaconda3\\\\Lib\\\\site-packages\\\\~klearn\\\\.libs\\\\msvcp140.dll'\n",
      "Consider using the `--user` option or check the permissions.\n",
      "\n"
     ]
    },
    {
     "name": "stdout",
     "output_type": "stream",
     "text": [
      "\n",
      "  Attempting uninstall: scikit-learn\n",
      "    Found existing installation: scikit-learn 1.3.0\n",
      "    Uninstalling scikit-learn-1.3.0:\n",
      "      Successfully uninstalled scikit-learn-1.3.0\n"
     ]
    }
   ],
   "source": [
    "!pip install --upgrade scikit-learn"
   ]
  },
  {
   "cell_type": "code",
   "execution_count": 2,
   "metadata": {
    "colab": {
     "base_uri": "https://localhost:8080/"
    },
    "id": "UolnuZWNBQzi",
    "outputId": "33f60c3e-d67a-4ad1-86b7-cdeefe3e33b5"
   },
   "outputs": [
    {
     "name": "stdout",
     "output_type": "stream",
     "text": [
      "Index(['East-West Airlines is trying to learn more about its customers.  Key issues are their',\n",
      "       'Unnamed: 1', 'Unnamed: 2', 'Unnamed: 3', 'Unnamed: 4'],\n",
      "      dtype='object')\n",
      "  East-West Airlines is trying to learn more about its customers.  Key issues are their  \\\n",
      "0  flying patterns, earning and use of frequent f...                                      \n",
      "1  card.  The task is to identify customer segmen...                                      \n",
      "2                                                NaN                                      \n",
      "3                                                NaN                                      \n",
      "4  Source: Based upon real business data; company...                                      \n",
      "\n",
      "  Unnamed: 1 Unnamed: 2 Unnamed: 3  Unnamed: 4  \n",
      "0        NaN        NaN        NaN         NaN  \n",
      "1        NaN        NaN        NaN         NaN  \n",
      "2        NaN        NaN        NaN         NaN  \n",
      "3        NaN        NaN        NaN         NaN  \n",
      "4        NaN        NaN        NaN         NaN  \n"
     ]
    }
   ],
   "source": [
    "import pandas as pd\n",
    "import openpyxl\n",
    "import scipy.cluster.hierarchy as sch\n",
    "from sklearn.cluster import AgglomerativeClustering\n",
    "import numpy as np\n",
    "import pandas as pd\n",
    "from matplotlib import pyplot as plt\n",
    "import seaborn as sn\n",
    "\n",
    "airlines = pd.read_excel(\"C:\\\\Users\\\\hp\\\\Downloads\\\\excelr_ds_files\\\\ASSIGN\\\\Clustering\\\\EastWestAirlines.xlsx\", engine='openpyxl')\n",
    "\n",
    "# Print the actual column names to identify the correct name\n",
    "print(airlines.columns)\n",
    "\n",
    "# Get the actual column name (assuming it's the first column)\n",
    "actual_column_name = airlines.columns[4]  # Access the 5th column (index 4)\n",
    "\n",
    "# Convert the column to numeric, errors='coerce' will replace non-numeric values with NaN\n",
    "airlines[actual_column_name] = pd.to_numeric(airlines[actual_column_name], errors='coerce')\n",
    "\n",
    "# Replace NaN values in the actual column with the mean of that column\n",
    "airlines[actual_column_name].fillna(airlines[actual_column_name].mean(), inplace=True)\n",
    "\n",
    "# Verify the changes\n",
    "print(airlines.head()) # print first few rows of updated dataframe"
   ]
  },
  {
   "cell_type": "code",
   "execution_count": 3,
   "metadata": {
    "colab": {
     "base_uri": "https://localhost:8080/"
    },
    "id": "FiKFUB5YB4M3",
    "outputId": "4b0ec228-aed5-42db-9691-b27a3b60a3e5"
   },
   "outputs": [],
   "source": [
    "for column in airlines.columns:\n",
    "    if airlines[column].isnull().any(): # Check if the column has missing values\n",
    "        airlines[column] = pd.to_numeric(airlines[column], errors='coerce')\n",
    "        airlines[column].fillna(airlines[column].mean(), inplace=True)  # Impute with mean"
   ]
  },
  {
   "cell_type": "code",
   "execution_count": 4,
   "metadata": {
    "id": "qEKDBnCtDqkR"
   },
   "outputs": [],
   "source": [
    "# Normalization function\n",
    "def norm_func(i):\n",
    "    x = (i-i.min())/(i.max()-i.min())\n",
    "    return (x)"
   ]
  },
  {
   "cell_type": "code",
   "execution_count": 5,
   "metadata": {
    "id": "fJpus9AoDtwQ"
   },
   "outputs": [],
   "source": [
    "df_norm = norm_func(airlines.iloc[:,1:])"
   ]
  },
  {
   "cell_type": "code",
   "execution_count": 6,
   "metadata": {
    "colab": {
     "base_uri": "https://localhost:8080/",
     "height": 206
    },
    "id": "LUQUlbKcD0Iz",
    "outputId": "9de1826f-98d3-4836-bb22-c47f5257fbb3"
   },
   "outputs": [
    {
     "data": {
      "text/html": [
       "<div>\n",
       "<style scoped>\n",
       "    .dataframe tbody tr th:only-of-type {\n",
       "        vertical-align: middle;\n",
       "    }\n",
       "\n",
       "    .dataframe tbody tr th {\n",
       "        vertical-align: top;\n",
       "    }\n",
       "\n",
       "    .dataframe thead th {\n",
       "        text-align: right;\n",
       "    }\n",
       "</style>\n",
       "<table border=\"1\" class=\"dataframe\">\n",
       "  <thead>\n",
       "    <tr style=\"text-align: right;\">\n",
       "      <th></th>\n",
       "      <th>Unnamed: 1</th>\n",
       "      <th>Unnamed: 2</th>\n",
       "      <th>Unnamed: 3</th>\n",
       "      <th>Unnamed: 4</th>\n",
       "    </tr>\n",
       "  </thead>\n",
       "  <tbody>\n",
       "    <tr>\n",
       "      <th>0</th>\n",
       "      <td>NaN</td>\n",
       "      <td>0.4</td>\n",
       "      <td>NaN</td>\n",
       "      <td>NaN</td>\n",
       "    </tr>\n",
       "    <tr>\n",
       "      <th>1</th>\n",
       "      <td>NaN</td>\n",
       "      <td>0.4</td>\n",
       "      <td>NaN</td>\n",
       "      <td>NaN</td>\n",
       "    </tr>\n",
       "    <tr>\n",
       "      <th>2</th>\n",
       "      <td>NaN</td>\n",
       "      <td>0.4</td>\n",
       "      <td>NaN</td>\n",
       "      <td>NaN</td>\n",
       "    </tr>\n",
       "    <tr>\n",
       "      <th>3</th>\n",
       "      <td>NaN</td>\n",
       "      <td>0.4</td>\n",
       "      <td>NaN</td>\n",
       "      <td>NaN</td>\n",
       "    </tr>\n",
       "    <tr>\n",
       "      <th>4</th>\n",
       "      <td>NaN</td>\n",
       "      <td>0.4</td>\n",
       "      <td>NaN</td>\n",
       "      <td>NaN</td>\n",
       "    </tr>\n",
       "  </tbody>\n",
       "</table>\n",
       "</div>"
      ],
      "text/plain": [
       "   Unnamed: 1  Unnamed: 2  Unnamed: 3  Unnamed: 4\n",
       "0         NaN         0.4         NaN         NaN\n",
       "1         NaN         0.4         NaN         NaN\n",
       "2         NaN         0.4         NaN         NaN\n",
       "3         NaN         0.4         NaN         NaN\n",
       "4         NaN         0.4         NaN         NaN"
      ]
     },
     "execution_count": 6,
     "metadata": {},
     "output_type": "execute_result"
    }
   ],
   "source": [
    "df_norm.head()"
   ]
  },
  {
   "cell_type": "code",
   "execution_count": 7,
   "metadata": {
    "id": "BxoMKELICD03"
   },
   "outputs": [],
   "source": [
    "\n",
    "def remove_outliers_iqr(df, column):\n",
    "  Q1 = df[column].quantile(0.25)\n",
    "  Q3 = df[column].quantile(0.75)\n",
    "  IQR = Q3 - Q1\n",
    "  lower_bound = Q1 - 1.5 * IQR\n",
    "  upper_bound = Q3 + 1.5 * IQR\n",
    "  df = df[(df[column] >= lower_bound) & (df[column] <= upper_bound)]\n",
    "  return df\n",
    "\n",
    "# Replace 'Balance' with the actual column name\n",
    "airlines = remove_outliers_iqr(airlines, actual_column_name)"
   ]
  },
  {
   "cell_type": "code",
   "execution_count": 8,
   "metadata": {
    "colab": {
     "base_uri": "https://localhost:8080/",
     "height": 434
    },
    "id": "XgLMSN6ZEtf3",
    "outputId": "8013fa94-6e48-4a89-fa32-750e9f7cb6db"
   },
   "outputs": [
    {
     "data": {
      "image/png": "[encoded data removed]",
      "text/plain": [
       "<Figure size 432x288 with 1 Axes>"
      ]
     },
     "metadata": {
      "needs_background": "light"
     },
     "output_type": "display_data"
    }
   ],
   "source": [
    "import scipy.cluster.hierarchy as sch\n",
    "from sklearn.preprocessing import MinMaxScaler\n",
    "airlines = pd.DataFrame({'Balance': [100, 200, 300, 400, 500],\n",
    "                        'Qual_miles': [0, 10, 20, 30, 40],\n",
    "                        'cc1_miles': [1, 2, 3, 4, 5],\n",
    "                        'cc2_miles': [0, 0, 0, 0, 0],\n",
    "                        'cc3_miles': [0, 0, 0, 0, 0],\n",
    "                        'Bonus_miles': [1000, 2000, 3000, 4000, 5000],\n",
    "                        'Bonus_trans': [10, 20, 30, 40, 50],\n",
    "                        'Flight_miles_12mo': [0, 100, 200, 300, 400],\n",
    "                        'Flight_trans_12': [0, 1, 2, 3, 4],\n",
    "                        'Days_since_enroll': [1000, 2000, 3000, 4000, 5000]})\n",
    "\n",
    "\n",
    "# Using MinMaxScaler for normalization\n",
    "scaler = MinMaxScaler()\n",
    "df_norm = pd.DataFrame(scaler.fit_transform(airlines.iloc[:,1:]), columns=airlines.columns[1:])\n",
    "\n",
    "# Check if the DataFrame is empty\n",
    "if df_norm.empty:\n",
    "    print(\"DataFrame is empty after normalization. Check your data and preprocessing steps.\")\n",
    "else:\n",
    "    # Check for NaN or infinite values\n",
    "    if df_norm.isnull().values.any() or np.isinf(df_norm.values).any():\n",
    "        print(\"DataFrame contains NaN or infinite values. Handle these values before clustering.\")\n",
    "    else:\n",
    "        # Check if all rows are identical\n",
    "        if df_norm.duplicated().all():\n",
    "            print(\"All rows in the DataFrame are identical. Clustering might not be meaningful.\")\n",
    "        else:\n",
    "            # create dendrogram\n",
    "            dendrogram = sch.dendrogram(sch.linkage(df_norm, method='complete'))"
   ]
  },
  {
   "cell_type": "code",
   "execution_count": 9,
   "metadata": {
    "id": "IE6ABAgmFDlq"
   },
   "outputs": [],
   "source": [
    "# Remove affinity argument for 'single' linkage\n",
    "hc = AgglomerativeClustering(n_clusters=4, linkage ='complete')\n",
    "# create clusters\n",
    "#affinity = 'euclidean',"
   ]
  },
  {
   "cell_type": "code",
   "execution_count": 10,
   "metadata": {
    "id": "QpmPHIAEFJgp"
   },
   "outputs": [],
   "source": [
    "y_hc = hc.fit_predict(df_norm)\n",
    "Clusters=pd.DataFrame(y_hc,columns=['Clusters'])"
   ]
  },
  {
   "cell_type": "code",
   "execution_count": 11,
   "metadata": {
    "colab": {
     "base_uri": "https://localhost:8080/",
     "height": 206
    },
    "id": "IzsShSbyFM9b",
    "outputId": "ade7f80f-129b-4d0d-f87d-4c52d5a99009"
   },
   "outputs": [
    {
     "data": {
      "text/html": [
       "<div>\n",
       "<style scoped>\n",
       "    .dataframe tbody tr th:only-of-type {\n",
       "        vertical-align: middle;\n",
       "    }\n",
       "\n",
       "    .dataframe tbody tr th {\n",
       "        vertical-align: top;\n",
       "    }\n",
       "\n",
       "    .dataframe thead th {\n",
       "        text-align: right;\n",
       "    }\n",
       "</style>\n",
       "<table border=\"1\" class=\"dataframe\">\n",
       "  <thead>\n",
       "    <tr style=\"text-align: right;\">\n",
       "      <th></th>\n",
       "      <th>Clusters</th>\n",
       "    </tr>\n",
       "  </thead>\n",
       "  <tbody>\n",
       "    <tr>\n",
       "      <th>0</th>\n",
       "      <td>0</td>\n",
       "    </tr>\n",
       "    <tr>\n",
       "      <th>1</th>\n",
       "      <td>0</td>\n",
       "    </tr>\n",
       "    <tr>\n",
       "      <th>2</th>\n",
       "      <td>3</td>\n",
       "    </tr>\n",
       "    <tr>\n",
       "      <th>3</th>\n",
       "      <td>1</td>\n",
       "    </tr>\n",
       "    <tr>\n",
       "      <th>4</th>\n",
       "      <td>2</td>\n",
       "    </tr>\n",
       "  </tbody>\n",
       "</table>\n",
       "</div>"
      ],
      "text/plain": [
       "   Clusters\n",
       "0         0\n",
       "1         0\n",
       "2         3\n",
       "3         1\n",
       "4         2"
      ]
     },
     "execution_count": 11,
     "metadata": {},
     "output_type": "execute_result"
    }
   ],
   "source": [
    "Clusters.head()"
   ]
  },
  {
   "cell_type": "code",
   "execution_count": 12,
   "metadata": {
    "id": "TGk16v3uFRtb"
   },
   "outputs": [],
   "source": [
    "df_norm['h_clusterid'] = hc.labels_"
   ]
  },
  {
   "cell_type": "code",
   "execution_count": 13,
   "metadata": {
    "colab": {
     "base_uri": "https://localhost:8080/",
     "height": 226
    },
    "id": "hYNBfaRTFVrO",
    "outputId": "4d21d2b9-8d11-4846-a551-946a40410671"
   },
   "outputs": [
    {
     "data": {
      "text/html": [
       "<div>\n",
       "<style scoped>\n",
       "    .dataframe tbody tr th:only-of-type {\n",
       "        vertical-align: middle;\n",
       "    }\n",
       "\n",
       "    .dataframe tbody tr th {\n",
       "        vertical-align: top;\n",
       "    }\n",
       "\n",
       "    .dataframe thead th {\n",
       "        text-align: right;\n",
       "    }\n",
       "</style>\n",
       "<table border=\"1\" class=\"dataframe\">\n",
       "  <thead>\n",
       "    <tr style=\"text-align: right;\">\n",
       "      <th></th>\n",
       "      <th>Qual_miles</th>\n",
       "      <th>cc1_miles</th>\n",
       "      <th>cc2_miles</th>\n",
       "      <th>cc3_miles</th>\n",
       "      <th>Bonus_miles</th>\n",
       "      <th>Bonus_trans</th>\n",
       "      <th>Flight_miles_12mo</th>\n",
       "      <th>Flight_trans_12</th>\n",
       "      <th>Days_since_enroll</th>\n",
       "      <th>h_clusterid</th>\n",
       "    </tr>\n",
       "  </thead>\n",
       "  <tbody>\n",
       "    <tr>\n",
       "      <th>0</th>\n",
       "      <td>0.00</td>\n",
       "      <td>0.00</td>\n",
       "      <td>0.0</td>\n",
       "      <td>0.0</td>\n",
       "      <td>0.00</td>\n",
       "      <td>0.00</td>\n",
       "      <td>0.00</td>\n",
       "      <td>0.00</td>\n",
       "      <td>0.00</td>\n",
       "      <td>0</td>\n",
       "    </tr>\n",
       "    <tr>\n",
       "      <th>1</th>\n",
       "      <td>0.25</td>\n",
       "      <td>0.25</td>\n",
       "      <td>0.0</td>\n",
       "      <td>0.0</td>\n",
       "      <td>0.25</td>\n",
       "      <td>0.25</td>\n",
       "      <td>0.25</td>\n",
       "      <td>0.25</td>\n",
       "      <td>0.25</td>\n",
       "      <td>0</td>\n",
       "    </tr>\n",
       "    <tr>\n",
       "      <th>2</th>\n",
       "      <td>0.50</td>\n",
       "      <td>0.50</td>\n",
       "      <td>0.0</td>\n",
       "      <td>0.0</td>\n",
       "      <td>0.50</td>\n",
       "      <td>0.50</td>\n",
       "      <td>0.50</td>\n",
       "      <td>0.50</td>\n",
       "      <td>0.50</td>\n",
       "      <td>3</td>\n",
       "    </tr>\n",
       "    <tr>\n",
       "      <th>3</th>\n",
       "      <td>0.75</td>\n",
       "      <td>0.75</td>\n",
       "      <td>0.0</td>\n",
       "      <td>0.0</td>\n",
       "      <td>0.75</td>\n",
       "      <td>0.75</td>\n",
       "      <td>0.75</td>\n",
       "      <td>0.75</td>\n",
       "      <td>0.75</td>\n",
       "      <td>1</td>\n",
       "    </tr>\n",
       "    <tr>\n",
       "      <th>4</th>\n",
       "      <td>1.00</td>\n",
       "      <td>1.00</td>\n",
       "      <td>0.0</td>\n",
       "      <td>0.0</td>\n",
       "      <td>1.00</td>\n",
       "      <td>1.00</td>\n",
       "      <td>1.00</td>\n",
       "      <td>1.00</td>\n",
       "      <td>1.00</td>\n",
       "      <td>2</td>\n",
       "    </tr>\n",
       "  </tbody>\n",
       "</table>\n",
       "</div>"
      ],
      "text/plain": [
       "   Qual_miles  cc1_miles  cc2_miles  cc3_miles  Bonus_miles  Bonus_trans  \\\n",
       "0        0.00       0.00        0.0        0.0         0.00         0.00   \n",
       "1        0.25       0.25        0.0        0.0         0.25         0.25   \n",
       "2        0.50       0.50        0.0        0.0         0.50         0.50   \n",
       "3        0.75       0.75        0.0        0.0         0.75         0.75   \n",
       "4        1.00       1.00        0.0        0.0         1.00         1.00   \n",
       "\n",
       "   Flight_miles_12mo  Flight_trans_12  Days_since_enroll  h_clusterid  \n",
       "0               0.00             0.00               0.00            0  \n",
       "1               0.25             0.25               0.25            0  \n",
       "2               0.50             0.50               0.50            3  \n",
       "3               0.75             0.75               0.75            1  \n",
       "4               1.00             1.00               1.00            2  "
      ]
     },
     "execution_count": 13,
     "metadata": {},
     "output_type": "execute_result"
    }
   ],
   "source": [
    "df_norm"
   ]
  },
  {
   "cell_type": "code",
   "execution_count": 14,
   "metadata": {
    "id": "lZX7kUWXFb7K"
   },
   "outputs": [],
   "source": [
    "airlines['h_clusterid'] = hc.labels_"
   ]
  },
  {
   "cell_type": "code",
   "execution_count": 15,
   "metadata": {
    "colab": {
     "base_uri": "https://localhost:8080/",
     "height": 226
    },
    "id": "YHe1TuriFgd-",
    "outputId": "8ad7b144-70b9-4afd-9b5d-02e273ac97e8"
   },
   "outputs": [
    {
     "data": {
      "text/html": [
       "<div>\n",
       "<style scoped>\n",
       "    .dataframe tbody tr th:only-of-type {\n",
       "        vertical-align: middle;\n",
       "    }\n",
       "\n",
       "    .dataframe tbody tr th {\n",
       "        vertical-align: top;\n",
       "    }\n",
       "\n",
       "    .dataframe thead th {\n",
       "        text-align: right;\n",
       "    }\n",
       "</style>\n",
       "<table border=\"1\" class=\"dataframe\">\n",
       "  <thead>\n",
       "    <tr style=\"text-align: right;\">\n",
       "      <th></th>\n",
       "      <th>Balance</th>\n",
       "      <th>Qual_miles</th>\n",
       "      <th>cc1_miles</th>\n",
       "      <th>cc2_miles</th>\n",
       "      <th>cc3_miles</th>\n",
       "      <th>Bonus_miles</th>\n",
       "      <th>Bonus_trans</th>\n",
       "      <th>Flight_miles_12mo</th>\n",
       "      <th>Flight_trans_12</th>\n",
       "      <th>Days_since_enroll</th>\n",
       "      <th>h_clusterid</th>\n",
       "    </tr>\n",
       "  </thead>\n",
       "  <tbody>\n",
       "    <tr>\n",
       "      <th>0</th>\n",
       "      <td>100</td>\n",
       "      <td>0</td>\n",
       "      <td>1</td>\n",
       "      <td>0</td>\n",
       "      <td>0</td>\n",
       "      <td>1000</td>\n",
       "      <td>10</td>\n",
       "      <td>0</td>\n",
       "      <td>0</td>\n",
       "      <td>1000</td>\n",
       "      <td>0</td>\n",
       "    </tr>\n",
       "    <tr>\n",
       "      <th>1</th>\n",
       "      <td>200</td>\n",
       "      <td>10</td>\n",
       "      <td>2</td>\n",
       "      <td>0</td>\n",
       "      <td>0</td>\n",
       "      <td>2000</td>\n",
       "      <td>20</td>\n",
       "      <td>100</td>\n",
       "      <td>1</td>\n",
       "      <td>2000</td>\n",
       "      <td>0</td>\n",
       "    </tr>\n",
       "    <tr>\n",
       "      <th>2</th>\n",
       "      <td>300</td>\n",
       "      <td>20</td>\n",
       "      <td>3</td>\n",
       "      <td>0</td>\n",
       "      <td>0</td>\n",
       "      <td>3000</td>\n",
       "      <td>30</td>\n",
       "      <td>200</td>\n",
       "      <td>2</td>\n",
       "      <td>3000</td>\n",
       "      <td>3</td>\n",
       "    </tr>\n",
       "    <tr>\n",
       "      <th>3</th>\n",
       "      <td>400</td>\n",
       "      <td>30</td>\n",
       "      <td>4</td>\n",
       "      <td>0</td>\n",
       "      <td>0</td>\n",
       "      <td>4000</td>\n",
       "      <td>40</td>\n",
       "      <td>300</td>\n",
       "      <td>3</td>\n",
       "      <td>4000</td>\n",
       "      <td>1</td>\n",
       "    </tr>\n",
       "    <tr>\n",
       "      <th>4</th>\n",
       "      <td>500</td>\n",
       "      <td>40</td>\n",
       "      <td>5</td>\n",
       "      <td>0</td>\n",
       "      <td>0</td>\n",
       "      <td>5000</td>\n",
       "      <td>50</td>\n",
       "      <td>400</td>\n",
       "      <td>4</td>\n",
       "      <td>5000</td>\n",
       "      <td>2</td>\n",
       "    </tr>\n",
       "  </tbody>\n",
       "</table>\n",
       "</div>"
      ],
      "text/plain": [
       "   Balance  Qual_miles  cc1_miles  cc2_miles  cc3_miles  Bonus_miles  \\\n",
       "0      100           0          1          0          0         1000   \n",
       "1      200          10          2          0          0         2000   \n",
       "2      300          20          3          0          0         3000   \n",
       "3      400          30          4          0          0         4000   \n",
       "4      500          40          5          0          0         5000   \n",
       "\n",
       "   Bonus_trans  Flight_miles_12mo  Flight_trans_12  Days_since_enroll  \\\n",
       "0           10                  0                0               1000   \n",
       "1           20                100                1               2000   \n",
       "2           30                200                2               3000   \n",
       "3           40                300                3               4000   \n",
       "4           50                400                4               5000   \n",
       "\n",
       "   h_clusterid  \n",
       "0            0  \n",
       "1            0  \n",
       "2            3  \n",
       "3            1  \n",
       "4            2  "
      ]
     },
     "execution_count": 15,
     "metadata": {},
     "output_type": "execute_result"
    }
   ],
   "source": [
    "airlines"
   ]
  },
  {
   "cell_type": "code",
   "execution_count": 16,
   "metadata": {
    "id": "t4ba62TrGbeT"
   },
   "outputs": [],
   "source": [
    "cluster_groups = airlines.groupby('h_clusterid')"
   ]
  },
  {
   "cell_type": "code",
   "execution_count": 17,
   "metadata": {
    "colab": {
     "base_uri": "https://localhost:8080/"
    },
    "id": "GtdNWMTjGg1k",
    "outputId": "6e62352d-033a-4b36-8afd-e715268adb26"
   },
   "outputs": [
    {
     "name": "stdout",
     "output_type": "stream",
     "text": [
      "Cluster 0:\n",
      "          Balance  Qual_miles  cc1_miles  Bonus_miles  Bonus_trans  \\\n",
      "count    2.000000    2.000000   2.000000     2.000000     2.000000   \n",
      "mean   150.000000    5.000000   1.500000  1500.000000    15.000000   \n",
      "std     70.710678    7.071068   0.707107   707.106781     7.071068   \n",
      "min    100.000000    0.000000   1.000000  1000.000000    10.000000   \n",
      "25%    125.000000    2.500000   1.250000  1250.000000    12.500000   \n",
      "50%    150.000000    5.000000   1.500000  1500.000000    15.000000   \n",
      "75%    175.000000    7.500000   1.750000  1750.000000    17.500000   \n",
      "max    200.000000   10.000000   2.000000  2000.000000    20.000000   \n",
      "\n",
      "       Flight_miles_12mo  Flight_trans_12  Days_since_enroll  \n",
      "count           2.000000         2.000000           2.000000  \n",
      "mean           50.000000         0.500000        1500.000000  \n",
      "std            70.710678         0.707107         707.106781  \n",
      "min             0.000000         0.000000        1000.000000  \n",
      "25%            25.000000         0.250000        1250.000000  \n",
      "50%            50.000000         0.500000        1500.000000  \n",
      "75%            75.000000         0.750000        1750.000000  \n",
      "max           100.000000         1.000000        2000.000000  \n",
      "\n",
      "\n",
      "Cluster 1:\n",
      "       Balance  Qual_miles  cc1_miles  Bonus_miles  Bonus_trans  \\\n",
      "count      1.0         1.0        1.0          1.0          1.0   \n",
      "mean     400.0        30.0        4.0       4000.0         40.0   \n",
      "std        NaN         NaN        NaN          NaN          NaN   \n",
      "min      400.0        30.0        4.0       4000.0         40.0   \n",
      "25%      400.0        30.0        4.0       4000.0         40.0   \n",
      "50%      400.0        30.0        4.0       4000.0         40.0   \n",
      "75%      400.0        30.0        4.0       4000.0         40.0   \n",
      "max      400.0        30.0        4.0       4000.0         40.0   \n",
      "\n",
      "       Flight_miles_12mo  Flight_trans_12  Days_since_enroll  \n",
      "count                1.0              1.0                1.0  \n",
      "mean               300.0              3.0             4000.0  \n",
      "std                  NaN              NaN                NaN  \n",
      "min                300.0              3.0             4000.0  \n",
      "25%                300.0              3.0             4000.0  \n",
      "50%                300.0              3.0             4000.0  \n",
      "75%                300.0              3.0             4000.0  \n",
      "max                300.0              3.0             4000.0  \n",
      "\n",
      "\n",
      "Cluster 2:\n",
      "       Balance  Qual_miles  cc1_miles  Bonus_miles  Bonus_trans  \\\n",
      "count      1.0         1.0        1.0          1.0          1.0   \n",
      "mean     500.0        40.0        5.0       5000.0         50.0   \n",
      "std        NaN         NaN        NaN          NaN          NaN   \n",
      "min      500.0        40.0        5.0       5000.0         50.0   \n",
      "25%      500.0        40.0        5.0       5000.0         50.0   \n",
      "50%      500.0        40.0        5.0       5000.0         50.0   \n",
      "75%      500.0        40.0        5.0       5000.0         50.0   \n",
      "max      500.0        40.0        5.0       5000.0         50.0   \n",
      "\n",
      "       Flight_miles_12mo  Flight_trans_12  Days_since_enroll  \n",
      "count                1.0              1.0                1.0  \n",
      "mean               400.0              4.0             5000.0  \n",
      "std                  NaN              NaN                NaN  \n",
      "min                400.0              4.0             5000.0  \n",
      "25%                400.0              4.0             5000.0  \n",
      "50%                400.0              4.0             5000.0  \n",
      "75%                400.0              4.0             5000.0  \n",
      "max                400.0              4.0             5000.0  \n",
      "\n",
      "\n",
      "Cluster 3:\n",
      "       Balance  Qual_miles  cc1_miles  Bonus_miles  Bonus_trans  \\\n",
      "count      1.0         1.0        1.0          1.0          1.0   \n",
      "mean     300.0        20.0        3.0       3000.0         30.0   \n",
      "std        NaN         NaN        NaN          NaN          NaN   \n",
      "min      300.0        20.0        3.0       3000.0         30.0   \n",
      "25%      300.0        20.0        3.0       3000.0         30.0   \n",
      "50%      300.0        20.0        3.0       3000.0         30.0   \n",
      "75%      300.0        20.0        3.0       3000.0         30.0   \n",
      "max      300.0        20.0        3.0       3000.0         30.0   \n",
      "\n",
      "       Flight_miles_12mo  Flight_trans_12  Days_since_enroll  \n",
      "count                1.0              1.0                1.0  \n",
      "mean               200.0              2.0             3000.0  \n",
      "std                  NaN              NaN                NaN  \n",
      "min                200.0              2.0             3000.0  \n",
      "25%                200.0              2.0             3000.0  \n",
      "50%                200.0              2.0             3000.0  \n",
      "75%                200.0              2.0             3000.0  \n",
      "max                200.0              2.0             3000.0  \n",
      "\n",
      "\n"
     ]
    }
   ],
   "source": [
    "for cluster, group in cluster_groups:\n",
    "    print(f\"Cluster {cluster}:\")\n",
    "    print(group[['Balance', 'Qual_miles', 'cc1_miles', 'Bonus_miles', 'Bonus_trans',\n",
    "                 'Flight_miles_12mo', 'Flight_trans_12', 'Days_since_enroll']].describe())\n",
    "    print(\"\\n\")"
   ]
  },
  {
   "cell_type": "code",
   "execution_count": 18,
   "metadata": {
    "colab": {
     "base_uri": "https://localhost:8080/",
     "height": 641
    },
    "id": "yYhN7qwvGjCg",
    "outputId": "cc9ca638-7767-4c08-eabb-f9ffabf4cc04"
   },
   "outputs": [
    {
     "data": {
      "image/png": "[encoded data removed]",
      "text/plain": [
       "<Figure size 720x504 with 1 Axes>"
      ]
     },
     "metadata": {
      "needs_background": "light"
     },
     "output_type": "display_data"
    }
   ],
   "source": [
    "import matplotlib.pyplot as plt\n",
    "\n",
    "plt.figure(figsize=(10, 7))\n",
    "plt.scatter(airlines['Balance'], airlines['Bonus_miles'], c=airlines['h_clusterid'], cmap='rainbow')\n",
    "plt.xlabel('Balance')\n",
    "plt.ylabel('Bonus Miles')\n",
    "plt.title('Clusters of Customers')\n",
    "plt.show()"
   ]
  },
  {
   "cell_type": "code",
   "execution_count": 19,
   "metadata": {
    "colab": {
     "base_uri": "https://localhost:8080/"
    },
    "id": "LZpBz4SrGmO5",
    "outputId": "fb722677-dd43-4565-b180-2f62ea6a3193"
   },
   "outputs": [
    {
     "name": "stdout",
     "output_type": "stream",
     "text": [
      "Silhouette Score: 0.2606935406994947\n"
     ]
    }
   ],
   "source": [
    "from sklearn.metrics import silhouette_score\n",
    "\n",
    "silhouette_avg = silhouette_score(df_norm, airlines['h_clusterid'])\n",
    "print(f\"Silhouette Score: {silhouette_avg}\")"
   ]
  }
 ],
 "metadata": {
  "colab": {
   "provenance": []
  },
  "kernelspec": {
   "display_name": "Python 3 (ipykernel)",
   "language": "python",
   "name": "python3"
  },
  "language_info": {
   "codemirror_mode": {
    "name": "ipython",
    "version": 3
   },
   "file_extension": ".py",
   "mimetype": "text/x-python",
   "name": "python",
   "nbconvert_exporter": "python",
   "pygments_lexer": "ipython3",
   "version": "3.9.12"
  }
 },
 "nbformat": 4,
 "nbformat_minor": 1
}
