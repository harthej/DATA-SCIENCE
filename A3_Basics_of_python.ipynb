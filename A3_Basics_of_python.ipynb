{
 "cells": [
  {
   "cell_type": "code",
   "execution_count": 1,
   "metadata": {
    "colab": {
     "base_uri": "https://localhost:8080/"
    },
    "id": "QsfgLeH0gzLc",
    "outputId": "7d51d270-1e32-4bdd-99ba-750a6ab24f76"
   },
   "outputs": [
    {
     "name": "stdout",
     "output_type": "stream",
     "text": [
      "Enter a number to check if it's prime: 7\n",
      "7 is a prime number.\n"
     ]
    }
   ],
   "source": [
    "#Exercise 1: Prime Numbers\n",
    "def is_prime(number):\n",
    "    # Prime numbers are greater than 1\n",
    "    if number <= 1:\n",
    "        return False\n",
    "    # Check divisibility from 2 up to the square root of the number\n",
    "    for i in range(2, int(number**0.5) + 1):\n",
    "        if number % i == 0:\n",
    "            return False\n",
    "    return True\n",
    "\n",
    "# Test the function with an example number\n",
    "number = int(input(\"Enter a number to check if it's prime: \"))\n",
    "if is_prime(number):\n",
    "    print(f\"{number} is a prime number.\")\n",
    "else:\n",
    "    print(f\"{number} is not a prime number.\")\n"
   ]
  },
  {
   "cell_type": "code",
   "execution_count": 2,
   "metadata": {
    "colab": {
     "base_uri": "https://localhost:8080/"
    },
    "id": "YRIcN6vYhDsh",
    "outputId": "78ebb86b-00e0-411d-ad1e-ba3cf39fa950"
   },
   "outputs": [
    {
     "name": "stdout",
     "output_type": "stream",
     "text": [
      "What is the product of 7 and 2? 14\n",
      "Correct! Well done.\n"
     ]
    }
   ],
   "source": [
    "\n",
    "#Exercise 2: Product of Random Numbers\n",
    "import random\n",
    "\n",
    "# Generate two random numbers\n",
    "num1 = random.randint(1, 10)\n",
    "num2 = random.randint(1, 10)\n",
    "product = num1 * num2\n",
    "\n",
    "# Ask user for the product\n",
    "user_answer = int(input(f\"What is the product of {num1} and {num2}? \"))\n",
    "\n",
    "# Check if user's answer is correct\n",
    "if user_answer == product:\n",
    "    print(\"Correct! Well done.\")\n",
    "else:\n",
    "    print(f\"Incorrect. The correct answer is {product}.\")\n"
   ]
  },
  {
   "cell_type": "code",
   "execution_count": 3,
   "metadata": {
    "colab": {
     "base_uri": "https://localhost:8080/"
    },
    "id": "IOicAv_ZhUp_",
    "outputId": "6c66be62-2f6c-4030-b7c3-dd02eba825eb"
   },
   "outputs": [
    {
     "name": "stdout",
     "output_type": "stream",
     "text": [
      "Squares of even numbers between 100 and 200:\n",
      "100^2 = 10000\n",
      "102^2 = 10404\n",
      "104^2 = 10816\n",
      "106^2 = 11236\n",
      "108^2 = 11664\n",
      "110^2 = 12100\n",
      "112^2 = 12544\n",
      "114^2 = 12996\n",
      "116^2 = 13456\n",
      "118^2 = 13924\n",
      "120^2 = 14400\n",
      "122^2 = 14884\n",
      "124^2 = 15376\n",
      "126^2 = 15876\n",
      "128^2 = 16384\n",
      "130^2 = 16900\n",
      "132^2 = 17424\n",
      "134^2 = 17956\n",
      "136^2 = 18496\n",
      "138^2 = 19044\n",
      "140^2 = 19600\n",
      "142^2 = 20164\n",
      "144^2 = 20736\n",
      "146^2 = 21316\n",
      "148^2 = 21904\n",
      "150^2 = 22500\n",
      "152^2 = 23104\n",
      "154^2 = 23716\n",
      "156^2 = 24336\n",
      "158^2 = 24964\n",
      "160^2 = 25600\n",
      "162^2 = 26244\n",
      "164^2 = 26896\n",
      "166^2 = 27556\n",
      "168^2 = 28224\n",
      "170^2 = 28900\n",
      "172^2 = 29584\n",
      "174^2 = 30276\n",
      "176^2 = 30976\n",
      "178^2 = 31684\n",
      "180^2 = 32400\n",
      "182^2 = 33124\n",
      "184^2 = 33856\n",
      "186^2 = 34596\n",
      "188^2 = 35344\n",
      "190^2 = 36100\n",
      "192^2 = 36864\n",
      "194^2 = 37636\n",
      "196^2 = 38416\n",
      "198^2 = 39204\n",
      "200^2 = 40000\n"
     ]
    }
   ],
   "source": [
    "#Exercise 3: Squares of Even/Odd Numbers\n",
    "# Choose to print squares of even numbers between 100 and 200\n",
    "print(\"Squares of even numbers between 100 and 200:\")\n",
    "\n",
    "for num in range(100, 201):\n",
    "    if num % 2 == 0:  # Check if the number is even\n",
    "        print(f\"{num}^2 = {num**2}\")\n"
   ]
  },
  {
   "cell_type": "code",
   "execution_count": 4,
   "metadata": {
    "colab": {
     "base_uri": "https://localhost:8080/"
    },
    "id": "ePqmqyI4hY6a",
    "outputId": "4357b145-5ef5-4d64-9b64-ddb8e449745b"
   },
   "outputs": [
    {
     "name": "stdout",
     "output_type": "stream",
     "text": [
      "'Lewis': 1\n",
      "'Hamilton': 1\n",
      "'in': 1\n",
      "'F1.': 1\n"
     ]
    }
   ],
   "source": [
    "#Exercise 4: Word Counter\n",
    "def word_counter(text):\n",
    "    # Split text into words\n",
    "    words = text.split()\n",
    "    word_count = {}\n",
    "\n",
    "    # Count occurrences of each word\n",
    "    for word in words:\n",
    "        word_count[word] = word_count.get(word, 0) + 1\n",
    "\n",
    "    return word_count\n",
    "\n",
    "# Example usage\n",
    "input_text = \"Lewis Hamilton in F1.\"\n",
    "word_count = word_counter(input_text)\n",
    "for word, count in word_count.items():\n",
    "    print(f\"'{word}': {count}\")\n"
   ]
  },
  {
   "cell_type": "code",
   "execution_count": 9,
   "metadata": {
    "colab": {
     "base_uri": "https://localhost:8080/"
    },
    "id": "pyUpGVjmhc1_",
    "outputId": "7b87c9b4-d867-42a4-d4b3-a624a5b5b0fd"
   },
   "outputs": [
    {
     "name": "stdout",
     "output_type": "stream",
     "text": [
      "Enter a word or phrase to check if it's a palindrome: rotator\n",
      "The input is a palindrome.\n"
     ]
    }
   ],
   "source": [
    "#Exercise 5: Check for Palindrome\n",
    "def is_palindrome(text):\n",
    "    # Remove spaces and punctuation, and convert to lowercase\n",
    "    clean_text = ''.join(char.lower() for char in text if char.isalnum())\n",
    "    # Check if the cleaned text reads the same forwards and backwards\n",
    "    return clean_text == clean_text[::-1]\n",
    "\n",
    "# Test the function with an example\n",
    "input_text = input(\"Enter a word or phrase to check if it's a palindrome: \")\n",
    "if is_palindrome(input_text):\n",
    "    print(\"The input is a palindrome.\")\n",
    "else:\n",
    "    print(\"The input is not a palindrome.\")\n"
   ]
  },
  {
   "cell_type": "code",
   "execution_count": null,
   "metadata": {},
   "outputs": [],
   "source": []
  }
 ],
 "metadata": {
  "colab": {
   "provenance": []
  },
  "kernelspec": {
   "display_name": "Python 3 (ipykernel)",
   "language": "python",
   "name": "python3"
  },
  "language_info": {
   "codemirror_mode": {
    "name": "ipython",
    "version": 3
   },
   "file_extension": ".py",
   "mimetype": "text/x-python",
   "name": "python",
   "nbconvert_exporter": "python",
   "pygments_lexer": "ipython3",
   "version": "3.9.12"
  }
 },
 "nbformat": 4,
 "nbformat_minor": 1
}
