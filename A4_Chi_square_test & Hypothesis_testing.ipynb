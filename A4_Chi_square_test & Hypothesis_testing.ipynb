{
 "cells": [
  {
   "cell_type": "code",
   "execution_count": 11,
   "metadata": {
    "id": "7LiMzaJ073Cu"
   },
   "outputs": [],
   "source": [
    "import pandas as pd\n",
    "import numpy as np\n",
    "from scipy.stats import chi2_contingency"
   ]
  },
  {
   "cell_type": "code",
   "execution_count": 12,
   "metadata": {
    "id": "ZP5wezZ4703h"
   },
   "outputs": [],
   "source": [
    "data = [[50, 70],\n",
    "        [80, 100],\n",
    "        [60, 90],\n",
    "        [30, 50],\n",
    "        [20, 50]]\n",
    "contingency_table = pd.DataFrame(data,\n",
    "                                 index=['Very Satisfied', 'Satisfied', 'Neutral', 'Unsatisfied', 'Very Unsatisfied'],\n",
    "                                 columns=['Smart Thermostat', 'Smart Light'])"
   ]
  },
  {
   "cell_type": "code",
   "execution_count": 13,
   "metadata": {
    "colab": {
     "base_uri": "https://localhost:8080/"
    },
    "id": "50MUqaeW7x72",
    "outputId": "eb2b7148-a2a5-45b8-e7d1-dc88fef5b023"
   },
   "outputs": [
    {
     "name": "stdout",
     "output_type": "stream",
     "text": [
      "Chi-Square Statistic: 5.638227513227513\n",
      "P-value: 0.22784371130697179\n",
      "Degrees of Freedom: 4\n",
      "Expected Frequencies:\n",
      "[[ 48.  72.]\n",
      " [ 72. 108.]\n",
      " [ 60.  90.]\n",
      " [ 32.  48.]\n",
      " [ 28.  42.]]\n"
     ]
    }
   ],
   "source": [
    "## CHI SQUARE TEST ##\n",
    "\n",
    "\n",
    "chi2, p, dof, expected = chi2_contingency(contingency_table)\n",
    "\n",
    "print(f\"Chi-Square Statistic: {chi2}\")\n",
    "print(f\"P-value: {p}\")\n",
    "print(f\"Degrees of Freedom: {dof}\")\n",
    "print(\"Expected Frequencies:\")\n",
    "print(expected)"
   ]
  },
  {
   "cell_type": "code",
   "execution_count": 14,
   "metadata": {
    "colab": {
     "base_uri": "https://localhost:8080/"
    },
    "id": "Vo7ttWVl7WYz",
    "outputId": "63eb9ce2-6170-4378-b5ed-51a33fe27bfa"
   },
   "outputs": [
    {
     "name": "stdout",
     "output_type": "stream",
     "text": [
      "Null Hypothesis (H0): There is no association between the type of smart home device purchased and customer satisfaction level.\n",
      "Alternative Hypothesis (H1): There is an association between the type of smart home device purchased and customer satisfaction level.\n",
      "\n",
      "Chi-Square Statistic: 5.638227513227513\n",
      "Critical Value: 9.487729036781154\n",
      "\n",
      "Decision: Fail to reject the null hypothesis.\n",
      "Conclusion: There is no significant association between the type of smart home device purchased and customer satisfaction level.\n"
     ]
    }
   ],
   "source": [
    "import pandas as pd\n",
    "import numpy as np\n",
    "from scipy.stats import chi2_contingency, chi2\n",
    "\n",
    "# Data\n",
    "data = [[50, 70], [80, 100], [60, 90], [30, 50], [20, 50]]\n",
    "contingency_table = pd.DataFrame(data,\n",
    "                                 index=['Very Satisfied', 'Satisfied', 'Neutral', 'Unsatisfied', 'Very Unsatisfied'],\n",
    "                                 columns=['Smart Thermostat', 'Smart Light'])\n",
    "\n",
    "# 1. State the Hypotheses\n",
    "print(\"Null Hypothesis (H0): There is no association between the type of smart home device purchased and customer satisfaction level.\")\n",
    "print(\"Alternative Hypothesis (H1): There is an association between the type of smart home device purchased and customer satisfaction level.\")\n",
    "\n",
    "# 2. Compute the Chi-Square Statistic\n",
    "chi2_stat, p, dof, expected = chi2_contingency(contingency_table)\n",
    "print(f\"\\nChi-Square Statistic: {chi2_stat}\")\n",
    "\n",
    "# 3. Determine the Critical Value\n",
    "alpha = 0.05\n",
    "# Use the chi2 object (representing the distribution) to calculate the critical value\n",
    "critical_value = chi2.ppf(1 - alpha, dof)  # Use the imported chi2 object\n",
    "print(f\"Critical Value: {critical_value}\")\n",
    "\n",
    "# 4. Make a Decision\n",
    "if chi2_stat > critical_value: # Use chi2_stat for comparison\n",
    "    print(\"\\nDecision: Reject the null hypothesis.\")\n",
    "    print(\"Conclusion: There is a significant association between the type of smart home device purchased and customer satisfaction level.\")\n",
    "else:\n",
    "    print(\"\\nDecision: Fail to reject the null hypothesis.\")\n",
    "    print(\"Conclusion: There is no significant association between the type of smart home device purchased and customer satisfaction level.\")"
   ]
  },
  {
   "cell_type": "code",
   "execution_count": 15,
   "metadata": {},
   "outputs": [
    {
     "name": "stdout",
     "output_type": "stream",
     "text": [
      "Test Statistic (z-score): -38.0\n",
      "Critical Value: 1.645\n",
      "Decision: Fail to reject the null hypothesis\n",
      "\n",
      "Conclusion:\n",
      "There is no strong evidence to support the restaurant owners' claim. The sample data suggests that the average weekly operating costs are lower than what the model predicts.\n",
      "\n",
      "Important Considerations:\n",
      "* Sample Size: A larger sample size could provide more robust evidence.\n",
      "* Other Factors: The large negative z-score suggests potential unaccounted factors affecting costs. Further investigation is recommended.\n",
      "* Model Accuracy: The original cost model might need revision or updating.\n"
     ]
    }
   ],
   "source": [
    "## Hypothesis Testing ##\n",
    "\n",
    "import math\n",
    "\n",
    "# Sample data and parameters\n",
    "sample_mean = 3050\n",
    "theoretical_mean = 1000 + 5 * 600  # W = $1,000 + $5X, where X = 600\n",
    "population_std_dev = 5 * 25 #sigma= 5 * 25\n",
    "sample_size = 25\n",
    "alpha = 0.05\n",
    "\n",
    "# Calculate the standard error\n",
    "standard_error = population_std_dev / math.sqrt(sample_size)\n",
    "\n",
    "# Calculate the test statistic (z-score)\n",
    "z_score = (sample_mean - theoretical_mean) / standard_error\n",
    "\n",
    "# Determine the critical value\n",
    "critical_value = 1.645  # For a one-tailed test with alpha = 0.05\n",
    "\n",
    "# Make a decision\n",
    "if z_score > critical_value:\n",
    "    decision = \"Reject the null hypothesis\"\n",
    "else:\n",
    "    decision = \"Fail to reject the null hypothesis\"\n",
    "\n",
    "# Print the results\n",
    "print(\"Test Statistic (z-score):\", z_score)\n",
    "print(\"Critical Value:\", critical_value)\n",
    "print(\"Decision:\", decision)\n",
    "print(\"\\nConclusion:\")\n",
    "\n",
    "if decision == \"Reject the null hypothesis\":\n",
    "    print(\"There is strong evidence to support the restaurant owners' claim that the weekly operating costs are higher than the model suggests.\")\n",
    "else:\n",
    "    print(\"There is no strong evidence to support the restaurant owners' claim. The sample data suggests that the average weekly operating costs are lower than what the model predicts.\")\n",
    "\n",
    "print(\"\\nImportant Considerations:\")\n",
    "print(\"* Sample Size: A larger sample size could provide more robust evidence.\")\n",
    "print(\"* Other Factors: The large negative z-score suggests potential unaccounted factors affecting costs. Further investigation is recommended.\")\n",
    "print(\"* Model Accuracy: The original cost model might need revision or updating.\")"
   ]
  }
 ],
 "metadata": {
  "colab": {
   "provenance": []
  },
  "kernelspec": {
   "display_name": "Python 3 (ipykernel)",
   "language": "python",
   "name": "python3"
  },
  "language_info": {
   "codemirror_mode": {
    "name": "ipython",
    "version": 3
   },
   "file_extension": ".py",
   "mimetype": "text/x-python",
   "name": "python",
   "nbconvert_exporter": "python",
   "pygments_lexer": "ipython3",
   "version": "3.9.12"
  }
 },
 "nbformat": 4,
 "nbformat_minor": 1
}
